{
 "cells": [
  {
   "cell_type": "code",
   "id": "1d47b7d3aaa1e67d",
   "metadata": {
    "ExecuteTime": {
     "end_time": "2025-07-11T10:31:24.841156Z",
     "start_time": "2025-07-11T10:31:24.682264Z"
    }
   },
   "source": [
    "import os\n",
    "import pathlib\n",
    "from pycoral.utils import edgetpu\n",
    "from pycoral.utils import dataset\n",
    "from pycoral.adapters import common\n",
    "from pycoral.adapters import classify\n",
    "from PIL import Image"
   ],
   "outputs": [],
   "execution_count": 1
  },
  {
   "metadata": {
    "ExecuteTime": {
     "end_time": "2025-07-11T10:31:26.145891Z",
     "start_time": "2025-07-11T10:31:26.134848Z"
    }
   },
   "cell_type": "code",
   "source": [
    "\n",
    "# Specify the TensorFlow model, labels, and image\n",
    "script_dir = 'pycoral\\\\test_data'\n",
    "# model_file = os.path.join(script_dir, 'mobilenet_v2_1.0_224_quant_edgetpu.tflite')\n",
    "# model_file = os.path.join(script_dir, 'mobilenet_v2_1.0_224_inat_bird_quant_edgetpu.tflite')\n",
    "model_file = os.path.join(script_dir, 'mobilenet_v2_1.0_224_inat_bird_quant_edgetpu.tflite')\n",
    "# label_file = os.path.join(script_dir, 'imagenet_labels.txt')\n",
    "label_file = os.path.join(script_dir, 'inat_bird_labels.txt')\n",
    "image_file = os.path.join(script_dir, 'parrot.jpg')"
   ],
   "id": "623107fafe64127a",
   "outputs": [],
   "execution_count": 2
  },
  {
   "metadata": {
    "ExecuteTime": {
     "end_time": "2025-07-11T10:31:27.552834Z",
     "start_time": "2025-07-11T10:31:27.125048Z"
    }
   },
   "cell_type": "code",
   "source": [
    "# Initialize the TF interpreter\n",
    "interpreter = edgetpu.make_interpreter(model_file)\n",
    "interpreter.allocate_tensors()\n",
    "\n",
    "# Resize the image\n",
    "size = common.input_size(interpreter)\n",
    "image = Image.open(image_file).convert('RGB').resize(size, Image.LANCZOS)"
   ],
   "id": "75076faa661d3269",
   "outputs": [
    {
     "ename": "ValueError",
     "evalue": "Failed to load delegate from edgetpu.dll\n",
     "output_type": "error",
     "traceback": [
      "\u001B[1;31m---------------------------------------------------------------------------\u001B[0m",
      "\u001B[1;31mValueError\u001B[0m                                Traceback (most recent call last)",
      "File \u001B[1;32mC:\\prj\\DLS\\dls_prj\\venv39\\lib\\site-packages\\tflite_runtime\\interpreter.py:160\u001B[0m, in \u001B[0;36mload_delegate\u001B[1;34m(library, options)\u001B[0m\n\u001B[0;32m    159\u001B[0m \u001B[38;5;28;01mtry\u001B[39;00m:\n\u001B[1;32m--> 160\u001B[0m   delegate \u001B[38;5;241m=\u001B[39m \u001B[43mDelegate\u001B[49m\u001B[43m(\u001B[49m\u001B[43mlibrary\u001B[49m\u001B[43m,\u001B[49m\u001B[43m \u001B[49m\u001B[43moptions\u001B[49m\u001B[43m)\u001B[49m\n\u001B[0;32m    161\u001B[0m \u001B[38;5;28;01mexcept\u001B[39;00m \u001B[38;5;167;01mValueError\u001B[39;00m \u001B[38;5;28;01mas\u001B[39;00m e:\n",
      "File \u001B[1;32mC:\\prj\\DLS\\dls_prj\\venv39\\lib\\site-packages\\tflite_runtime\\interpreter.py:119\u001B[0m, in \u001B[0;36mDelegate.__init__\u001B[1;34m(self, library, options)\u001B[0m\n\u001B[0;32m    118\u001B[0m \u001B[38;5;28;01mif\u001B[39;00m \u001B[38;5;28mself\u001B[39m\u001B[38;5;241m.\u001B[39m_delegate_ptr \u001B[38;5;129;01mis\u001B[39;00m \u001B[38;5;28;01mNone\u001B[39;00m:\n\u001B[1;32m--> 119\u001B[0m   \u001B[38;5;28;01mraise\u001B[39;00m \u001B[38;5;167;01mValueError\u001B[39;00m(capture\u001B[38;5;241m.\u001B[39mmessage)\n",
      "\u001B[1;31mValueError\u001B[0m: ",
      "\nDuring handling of the above exception, another exception occurred:\n",
      "\u001B[1;31mValueError\u001B[0m                                Traceback (most recent call last)",
      "Cell \u001B[1;32mIn[3], line 2\u001B[0m\n\u001B[0;32m      1\u001B[0m \u001B[38;5;66;03m# Initialize the TF interpreter\u001B[39;00m\n\u001B[1;32m----> 2\u001B[0m interpreter \u001B[38;5;241m=\u001B[39m \u001B[43medgetpu\u001B[49m\u001B[38;5;241;43m.\u001B[39;49m\u001B[43mmake_interpreter\u001B[49m\u001B[43m(\u001B[49m\u001B[43mmodel_file\u001B[49m\u001B[43m)\u001B[49m\n\u001B[0;32m      3\u001B[0m interpreter\u001B[38;5;241m.\u001B[39mallocate_tensors()\n\u001B[0;32m      5\u001B[0m \u001B[38;5;66;03m# Resize the image\u001B[39;00m\n",
      "File \u001B[1;32mC:\\prj\\DLS\\dls_prj\\venv39\\lib\\site-packages\\pycoral\\utils\\edgetpu.py:87\u001B[0m, in \u001B[0;36mmake_interpreter\u001B[1;34m(model_path_or_content, device, delegate)\u001B[0m\n\u001B[0;32m     85\u001B[0m   delegates \u001B[38;5;241m=\u001B[39m [delegate]\n\u001B[0;32m     86\u001B[0m \u001B[38;5;28;01melse\u001B[39;00m:\n\u001B[1;32m---> 87\u001B[0m   delegates \u001B[38;5;241m=\u001B[39m [\u001B[43mload_edgetpu_delegate\u001B[49m\u001B[43m(\u001B[49m\u001B[43m{\u001B[49m\u001B[38;5;124;43m'\u001B[39;49m\u001B[38;5;124;43mdevice\u001B[39;49m\u001B[38;5;124;43m'\u001B[39;49m\u001B[43m:\u001B[49m\u001B[43m \u001B[49m\u001B[43mdevice\u001B[49m\u001B[43m}\u001B[49m\u001B[43m \u001B[49m\u001B[38;5;28;43;01mif\u001B[39;49;00m\u001B[43m \u001B[49m\u001B[43mdevice\u001B[49m\u001B[43m \u001B[49m\u001B[38;5;28;43;01melse\u001B[39;49;00m\u001B[43m \u001B[49m\u001B[43m{\u001B[49m\u001B[43m}\u001B[49m\u001B[43m)\u001B[49m]\n\u001B[0;32m     88\u001B[0m \u001B[38;5;28;01mif\u001B[39;00m \u001B[38;5;28misinstance\u001B[39m(model_path_or_content, \u001B[38;5;28mbytes\u001B[39m):\n\u001B[0;32m     89\u001B[0m   \u001B[38;5;28;01mreturn\u001B[39;00m tflite\u001B[38;5;241m.\u001B[39mInterpreter(\n\u001B[0;32m     90\u001B[0m       model_content\u001B[38;5;241m=\u001B[39mmodel_path_or_content, experimental_delegates\u001B[38;5;241m=\u001B[39mdelegates)\n",
      "File \u001B[1;32mC:\\prj\\DLS\\dls_prj\\venv39\\lib\\site-packages\\pycoral\\utils\\edgetpu.py:52\u001B[0m, in \u001B[0;36mload_edgetpu_delegate\u001B[1;34m(options)\u001B[0m\n\u001B[0;32m     41\u001B[0m \u001B[38;5;28;01mdef\u001B[39;00m\u001B[38;5;250m \u001B[39m\u001B[38;5;21mload_edgetpu_delegate\u001B[39m(options\u001B[38;5;241m=\u001B[39m\u001B[38;5;28;01mNone\u001B[39;00m):\n\u001B[0;32m     42\u001B[0m \u001B[38;5;250m  \u001B[39m\u001B[38;5;124;03m\"\"\"Loads the Edge TPU delegate with the given options.\u001B[39;00m\n\u001B[0;32m     43\u001B[0m \n\u001B[0;32m     44\u001B[0m \u001B[38;5;124;03m  Args:\u001B[39;00m\n\u001B[1;32m   (...)\u001B[0m\n\u001B[0;32m     50\u001B[0m \u001B[38;5;124;03m    The Edge TPU delegate object.\u001B[39;00m\n\u001B[0;32m     51\u001B[0m \u001B[38;5;124;03m  \"\"\"\u001B[39;00m\n\u001B[1;32m---> 52\u001B[0m   \u001B[38;5;28;01mreturn\u001B[39;00m \u001B[43mtflite\u001B[49m\u001B[38;5;241;43m.\u001B[39;49m\u001B[43mload_delegate\u001B[49m\u001B[43m(\u001B[49m\u001B[43m_EDGETPU_SHARED_LIB\u001B[49m\u001B[43m,\u001B[49m\u001B[43m \u001B[49m\u001B[43moptions\u001B[49m\u001B[43m \u001B[49m\u001B[38;5;129;43;01mor\u001B[39;49;00m\u001B[43m \u001B[49m\u001B[43m{\u001B[49m\u001B[43m}\u001B[49m\u001B[43m)\u001B[49m\n",
      "File \u001B[1;32mC:\\prj\\DLS\\dls_prj\\venv39\\lib\\site-packages\\tflite_runtime\\interpreter.py:162\u001B[0m, in \u001B[0;36mload_delegate\u001B[1;34m(library, options)\u001B[0m\n\u001B[0;32m    160\u001B[0m   delegate \u001B[38;5;241m=\u001B[39m Delegate(library, options)\n\u001B[0;32m    161\u001B[0m \u001B[38;5;28;01mexcept\u001B[39;00m \u001B[38;5;167;01mValueError\u001B[39;00m \u001B[38;5;28;01mas\u001B[39;00m e:\n\u001B[1;32m--> 162\u001B[0m   \u001B[38;5;28;01mraise\u001B[39;00m \u001B[38;5;167;01mValueError\u001B[39;00m(\u001B[38;5;124m'\u001B[39m\u001B[38;5;124mFailed to load delegate from \u001B[39m\u001B[38;5;132;01m{}\u001B[39;00m\u001B[38;5;130;01m\\n\u001B[39;00m\u001B[38;5;132;01m{}\u001B[39;00m\u001B[38;5;124m'\u001B[39m\u001B[38;5;241m.\u001B[39mformat(\n\u001B[0;32m    163\u001B[0m       library, \u001B[38;5;28mstr\u001B[39m(e)))\n\u001B[0;32m    164\u001B[0m \u001B[38;5;28;01mreturn\u001B[39;00m delegate\n",
      "\u001B[1;31mValueError\u001B[0m: Failed to load delegate from edgetpu.dll\n"
     ]
    }
   ],
   "execution_count": 3
  },
  {
   "metadata": {
    "ExecuteTime": {
     "end_time": "2025-07-06T20:54:23.194768Z",
     "start_time": "2025-07-06T20:54:23.147900Z"
    }
   },
   "cell_type": "code",
   "source": [
    "\n",
    "# Run an inference\n",
    "common.set_input(interpreter, image)\n",
    "interpreter.invoke()\n",
    "classes = classify.get_classes(interpreter, top_k=1)\n",
    "\n",
    "# Print the result\n",
    "labels = dataset.read_label_file(label_file)\n",
    "for c in classes:\n",
    "  print('%s: %.5f' % (labels.get(c.id, c.id), c.score))"
   ],
   "id": "initial_id",
   "outputs": [
    {
     "name": "stdout",
     "output_type": "stream",
     "text": [
      "Ara macao (Scarlet Macaw): 0.75781\n"
     ]
    }
   ],
   "execution_count": 40
  },
  {
   "metadata": {
    "ExecuteTime": {
     "end_time": "2025-07-06T20:42:55.383432Z",
     "start_time": "2025-07-06T20:42:55.377654Z"
    }
   },
   "cell_type": "code",
   "source": "",
   "id": "ea4eca402e47b7aa",
   "outputs": [],
   "execution_count": null
  },
  {
   "metadata": {
    "ExecuteTime": {
     "end_time": "2025-07-06T21:00:45.082894Z",
     "start_time": "2025-07-06T21:00:45.072758Z"
    }
   },
   "cell_type": "code",
   "source": [
    "\n",
    "# Specify the TensorFlow model, labels, and image\n",
    "script_dir = ''\n",
    "model_file = os.path.join(script_dir, 'models/best_5_full_integer_quant_edgetpu.tflite')\n",
    "label_file = os.path.join(script_dir, 'models/items.txt')\n",
    "image_file = os.path.join(script_dir, 'images/test_BLI_0004.JPG')"
   ],
   "id": "3bead04e5bf69a21",
   "outputs": [],
   "execution_count": 5
  },
  {
   "metadata": {
    "ExecuteTime": {
     "end_time": "2025-07-06T21:00:53.479916Z",
     "start_time": "2025-07-06T21:00:45.912045Z"
    }
   },
   "cell_type": "code",
   "source": [
    "# Initialize the TF interpreter\n",
    "interpreter = edgetpu.make_interpreter(model_file)\n",
    "interpreter.allocate_tensors()\n",
    "\n",
    "# Resize the image\n",
    "size = common.input_size(interpreter)\n",
    "image = Image.open(image_file).convert('RGB').resize(size, Image.LANCZOS)"
   ],
   "id": "6f0a88f01af0e681",
   "outputs": [],
   "execution_count": 6
  },
  {
   "metadata": {
    "ExecuteTime": {
     "end_time": "2025-07-06T21:02:36.206397Z",
     "start_time": "2025-07-06T21:00:55.695226Z"
    }
   },
   "cell_type": "code",
   "source": [
    "\n",
    "# Run an inference\n",
    "common.set_input(interpreter, image)\n",
    "interpreter.invoke()\n",
    "classes = classify.get_classes(interpreter, top_k=1)\n",
    "\n",
    "# Print the result\n",
    "labels = dataset.read_label_file(label_file)\n",
    "for c in classes:\n",
    "  print('%s: %.5f' % (labels.get(c.id, c.id), c.score))"
   ],
   "id": "47558d12340cf5ac",
   "outputs": [
    {
     "name": "stdout",
     "output_type": "stream",
     "text": [
      "96753: 1.09853\n"
     ]
    }
   ],
   "execution_count": 7
  },
  {
   "metadata": {
    "ExecuteTime": {
     "end_time": "2025-07-07T21:22:24.319383Z",
     "start_time": "2025-07-07T21:22:24.297327Z"
    }
   },
   "cell_type": "code",
   "source": [
    "\n",
    "# Specify the TensorFlow model, labels, and image\n",
    "script_dir = ''\n",
    "model_file = os.path.join(script_dir, 'models/yolov5nu_full_integer_quant_edgetpu.tflite')\n",
    "label_file = os.path.join(script_dir, 'models/coco_labels.txt')\n",
    "image_file = os.path.join(script_dir, 'images/grace_hopper.bmp')"
   ],
   "id": "ef5d2fa8d9720e13",
   "outputs": [],
   "execution_count": 11
  },
  {
   "metadata": {
    "ExecuteTime": {
     "end_time": "2025-07-07T21:22:24.763344Z",
     "start_time": "2025-07-07T21:22:24.737181Z"
    }
   },
   "cell_type": "code",
   "source": [
    "# Initialize the TF interpreter\n",
    "interpreter = edgetpu.make_interpreter(model_file)\n",
    "interpreter.allocate_tensors()\n",
    "\n",
    "# Resize the image\n",
    "size = common.input_size(interpreter)\n",
    "image = Image.open(image_file).convert('RGB').resize(size, Image.LANCZOS)"
   ],
   "id": "124e9f32bf41be39",
   "outputs": [],
   "execution_count": 12
  },
  {
   "metadata": {
    "ExecuteTime": {
     "end_time": "2025-07-07T21:22:25.984032Z",
     "start_time": "2025-07-07T21:22:25.875426Z"
    }
   },
   "cell_type": "code",
   "source": [
    "\n",
    "# Run an inference\n",
    "common.set_input(interpreter, image)\n",
    "interpreter.invoke()\n",
    "classes = classify.get_classes(interpreter, top_k=1)\n",
    "\n",
    "# Print the result\n",
    "labels = dataset.read_label_file(label_file)\n",
    "for c in classes:\n",
    "  print('%s: %.5f' % (labels.get(c.id, c.id), c.score))"
   ],
   "id": "d02810a5f1c23b9b",
   "outputs": [
    {
     "name": "stdout",
     "output_type": "stream",
     "text": [
      "33403: 1.00650\n"
     ]
    }
   ],
   "execution_count": 13
  },
  {
   "metadata": {
    "ExecuteTime": {
     "end_time": "2025-07-07T21:22:27.753484Z",
     "start_time": "2025-07-07T21:22:27.738218Z"
    }
   },
   "cell_type": "code",
   "source": "labels",
   "id": "655c1630cc0f70fa",
   "outputs": [
    {
     "data": {
      "text/plain": [
       "{0: 'person',\n",
       " 1: 'bicycle',\n",
       " 2: 'car',\n",
       " 3: 'motorcycle',\n",
       " 4: 'airplane',\n",
       " 5: 'bus',\n",
       " 6: 'train',\n",
       " 7: 'truck',\n",
       " 8: 'boat',\n",
       " 9: 'traffic light',\n",
       " 10: 'fire hydrant',\n",
       " 11: 'n/a',\n",
       " 12: 'stop sign',\n",
       " 13: 'parking meter',\n",
       " 14: 'bench',\n",
       " 15: 'bird',\n",
       " 16: 'cat',\n",
       " 17: 'dog',\n",
       " 18: 'horse',\n",
       " 19: 'sheep',\n",
       " 20: 'cow',\n",
       " 21: 'elephant',\n",
       " 22: 'bear',\n",
       " 23: 'zebra',\n",
       " 24: 'giraffe',\n",
       " 25: 'n/a',\n",
       " 26: 'backpack',\n",
       " 27: 'umbrella',\n",
       " 28: 'n/a',\n",
       " 29: 'n/a',\n",
       " 30: 'handbag',\n",
       " 31: 'tie',\n",
       " 32: 'suitcase',\n",
       " 33: 'frisbee',\n",
       " 34: 'skis',\n",
       " 35: 'snowboard',\n",
       " 36: 'sports ball',\n",
       " 37: 'kite',\n",
       " 38: 'baseball bat',\n",
       " 39: 'baseball glove',\n",
       " 40: 'skateboard',\n",
       " 41: 'surfboard',\n",
       " 42: 'tennis racket',\n",
       " 43: 'bottle',\n",
       " 44: 'n/a',\n",
       " 45: 'wine glass',\n",
       " 46: 'cup',\n",
       " 47: 'fork',\n",
       " 48: 'knife',\n",
       " 49: 'spoon',\n",
       " 50: 'bowl',\n",
       " 51: 'banana',\n",
       " 52: 'apple',\n",
       " 53: 'sandwich',\n",
       " 54: 'orange',\n",
       " 55: 'broccoli',\n",
       " 56: 'carrot',\n",
       " 57: 'hot dog',\n",
       " 58: 'pizza',\n",
       " 59: 'donut',\n",
       " 60: 'cake',\n",
       " 61: 'chair',\n",
       " 62: 'couch',\n",
       " 63: 'potted plant',\n",
       " 64: 'bed',\n",
       " 65: 'n/a',\n",
       " 66: 'dining table',\n",
       " 67: 'n/a',\n",
       " 68: 'n/a',\n",
       " 69: 'toilet',\n",
       " 70: 'n/a',\n",
       " 71: 'tv',\n",
       " 72: 'laptop',\n",
       " 73: 'mouse',\n",
       " 74: 'remote',\n",
       " 75: 'keyboard',\n",
       " 76: 'cell phone',\n",
       " 77: 'microwave',\n",
       " 78: 'oven',\n",
       " 79: 'toaster',\n",
       " 80: 'sink',\n",
       " 81: 'refrigerator',\n",
       " 82: 'n/a',\n",
       " 83: 'book',\n",
       " 84: 'clock',\n",
       " 85: 'vase',\n",
       " 86: 'scissors',\n",
       " 87: 'teddy bear',\n",
       " 88: 'hair drier',\n",
       " 89: 'toothbrush'}"
      ]
     },
     "execution_count": 14,
     "metadata": {},
     "output_type": "execute_result"
    }
   ],
   "execution_count": 14
  },
  {
   "metadata": {
    "ExecuteTime": {
     "end_time": "2025-07-07T21:20:12.427711Z",
     "start_time": "2025-07-07T21:20:12.415244Z"
    }
   },
   "cell_type": "code",
   "source": "classes",
   "id": "a97e9869fd1a5bc5",
   "outputs": [
    {
     "data": {
      "text/plain": [
       "[Class(id=33389, score=1.0106086861342192)]"
      ]
     },
     "execution_count": 8,
     "metadata": {},
     "output_type": "execute_result"
    }
   ],
   "execution_count": 8
  },
  {
   "metadata": {},
   "cell_type": "code",
   "outputs": [],
   "execution_count": null,
   "source": "",
   "id": "61deab1184fc90d2"
  }
 ],
 "metadata": {
  "kernelspec": {
   "display_name": "Python 3",
   "language": "python",
   "name": "python3"
  },
  "language_info": {
   "codemirror_mode": {
    "name": "ipython",
    "version": 2
   },
   "file_extension": ".py",
   "mimetype": "text/x-python",
   "name": "python",
   "nbconvert_exporter": "python",
   "pygments_lexer": "ipython2",
   "version": "2.7.6"
  }
 },
 "nbformat": 4,
 "nbformat_minor": 5
}
