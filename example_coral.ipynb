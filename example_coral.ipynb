{
 "cells": [
  {
   "cell_type": "markdown",
   "id": "eeeafd8c97e89170",
   "metadata": {},
   "source": [
    "## Запуск отдельных моделей"
   ]
  },
  {
   "cell_type": "markdown",
   "id": "34bbfa42aaa17575",
   "metadata": {},
   "source": [
    "[Run inference on the Edge TPU with Python](https://coral.ai/docs/edgetpu/tflite-python/#overview)"
   ]
  },
  {
   "cell_type": "code",
   "execution_count": 2,
   "id": "863956d62b8d4d4c",
   "metadata": {
    "ExecuteTime": {
     "end_time": "2025-06-14T09:49:17.845496Z",
     "start_time": "2025-06-14T09:49:17.702054Z"
    }
   },
   "outputs": [],
   "source": [
    "import os\n",
    "import pathlib\n",
    "from pycoral.utils import edgetpu\n",
    "from pycoral.utils import dataset\n",
    "from pycoral.adapters import common\n",
    "from pycoral.adapters import classify\n",
    "from PIL import Image"
   ]
  },
  {
   "cell_type": "code",
   "execution_count": 3,
   "id": "c97853d843143799",
   "metadata": {
    "ExecuteTime": {
     "end_time": "2025-06-14T09:50:28.603433Z",
     "start_time": "2025-06-14T09:50:28.594142Z"
    }
   },
   "outputs": [
    {
     "name": "stdout",
     "output_type": "stream",
     "text": [
      "Current directory: c:\\prj\\DLS\\dls_prj\n"
     ]
    }
   ],
   "source": [
    "print(f\"Current directory: {os.getcwd()}\")"
   ]
  },
  {
   "cell_type": "code",
   "id": "dcdbb063",
   "metadata": {
    "ExecuteTime": {
     "end_time": "2025-06-14T11:26:09.629143Z",
     "start_time": "2025-06-14T11:26:09.606529Z"
    }
   },
   "source": [
    "from pycoral.utils import edgetpu\n",
    "\n",
    "def check_coral_tpu():\n",
    "    try:\n",
    "        # Получаем список доступных Edge TPU устройств\n",
    "        devices = edgetpu.list_edge_tpus()\n",
    "        \n",
    "        if devices:\n",
    "            print(f\"Найдено {len(devices)} Edge TPU устройств:\")\n",
    "            for device in devices:\n",
    "                print(f\"- {device}\")\n",
    "            return True\n",
    "        else:\n",
    "            print(\"Edge TPU устройства не найдены\")\n",
    "            return False\n",
    "            \n",
    "    except Exception as e:\n",
    "        print(f\"Ошибка при проверке Edge TPU: {e}\")\n",
    "        return False\n",
    "\n",
    "# Запуск проверки\n",
    "check_coral_tpu()"
   ],
   "outputs": [
    {
     "name": "stdout",
     "output_type": "stream",
     "text": [
      "Найдено 1 Edge TPU устройств:\n",
      "- {'type': 'usb', 'path': '/sys/bus/usb/devices/2-5'}\n"
     ]
    },
    {
     "data": {
      "text/plain": [
       "True"
      ]
     },
     "execution_count": 7,
     "metadata": {},
     "output_type": "execute_result"
    }
   ],
   "execution_count": 7
  },
  {
   "cell_type": "code",
   "execution_count": 7,
   "id": "dd6acde139b31702",
   "metadata": {
    "ExecuteTime": {
     "end_time": "2025-06-14T09:51:10.485003Z",
     "start_time": "2025-06-14T09:51:10.213211Z"
    }
   },
   "outputs": [],
   "source": [
    "# Specify the TensorFlow model, labels, and image\n",
    "# script_dir = pathlib.Path(__file__).parent.absolute()\n",
    "script_dir = pathlib.Path.cwd()\n",
    "model_file = os.path.join(script_dir, 'pycoral/test_data/mobilenet_v2_1.0_224_inat_bird_quant.tflite')\n",
    "label_file = os.path.join(script_dir, 'pycoral/test_data/inat_bird_labels.txt')\n",
    "image_file = os.path.join(script_dir, 'pycoral/test_data/sora.jpg')"
   ]
  },
  {
   "cell_type": "code",
   "id": "initial_id",
   "metadata": {
    "ExecuteTime": {
     "end_time": "2025-06-14T11:25:49.118188Z",
     "start_time": "2025-06-14T11:25:49.091353Z"
    }
   },
   "source": [
    "\n",
    "# Initialize the TF interpreter\n",
    "interpreter = edgetpu.make_interpreter(model_file)\n",
    "interpreter.allocate_tensors()\n",
    "\n",
    "# Resize the image\n",
    "size = common.input_size(interpreter)\n",
    "image = Image.open(image_file).convert('RGB').resize(size, Image.LANCZOS)\n"
   ],
   "outputs": [
    {
     "ename": "NameError",
     "evalue": "name 'model_file' is not defined",
     "output_type": "error",
     "traceback": [
      "\u001B[1;31m---------------------------------------------------------------------------\u001B[0m",
      "\u001B[1;31mNameError\u001B[0m                                 Traceback (most recent call last)",
      "Cell \u001B[1;32mIn[5], line 2\u001B[0m\n\u001B[0;32m      1\u001B[0m \u001B[38;5;66;03m# Initialize the TF interpreter\u001B[39;00m\n\u001B[1;32m----> 2\u001B[0m interpreter \u001B[38;5;241m=\u001B[39m edgetpu\u001B[38;5;241m.\u001B[39mmake_interpreter(\u001B[43mmodel_file\u001B[49m)\n\u001B[0;32m      3\u001B[0m interpreter\u001B[38;5;241m.\u001B[39mallocate_tensors()\n\u001B[0;32m      5\u001B[0m \u001B[38;5;66;03m# Resize the image\u001B[39;00m\n",
      "\u001B[1;31mNameError\u001B[0m: name 'model_file' is not defined"
     ]
    }
   ],
   "execution_count": 5
  },
  {
   "cell_type": "code",
   "execution_count": 9,
   "id": "18513e8c",
   "metadata": {},
   "outputs": [
    {
     "name": "stdout",
     "output_type": "stream",
     "text": [
      "Porzana carolina (Sora): 0.97656\n",
      "Haemorhous purpureus (Purple Finch): 0.00000\n",
      "Nyctidromus albicollis (Common Pauraque): 0.00000\n"
     ]
    }
   ],
   "source": [
    "\n",
    "# Run an inference\n",
    "common.set_input(interpreter, image)\n",
    "interpreter.invoke()\n",
    "classes = classify.get_classes(interpreter, top_k=3)\n",
    "\n",
    "# Print the result\n",
    "labels = dataset.read_label_file(label_file)\n",
    "for c in classes:\n",
    "  print('%s: %.5f' % (labels.get(c.id, c.id), c.score))\n"
   ]
  },
  {
   "cell_type": "code",
   "execution_count": null,
   "id": "242aadd6",
   "metadata": {},
   "outputs": [],
   "source": []
  }
 ],
 "metadata": {
  "kernelspec": {
   "display_name": "venv",
   "language": "python",
   "name": "python3"
  },
  "language_info": {
   "codemirror_mode": {
    "name": "ipython",
    "version": 3
   },
   "file_extension": ".py",
   "mimetype": "text/x-python",
   "name": "python",
   "nbconvert_exporter": "python",
   "pygments_lexer": "ipython3",
   "version": "3.9.13"
  }
 },
 "nbformat": 4,
 "nbformat_minor": 5
}
