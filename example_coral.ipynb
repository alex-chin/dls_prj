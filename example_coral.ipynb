{
 "cells": [
  {
   "cell_type": "markdown",
   "id": "eeeafd8c97e89170",
   "metadata": {},
   "source": [
    "## Запуск отдельных моделей"
   ]
  },
  {
   "cell_type": "markdown",
   "id": "34bbfa42aaa17575",
   "metadata": {},
   "source": [
    "[Run inference on the Edge TPU with Python](https://coral.ai/docs/edgetpu/tflite-python/#overview)"
   ]
  },
  {
   "cell_type": "code",
   "execution_count": 2,
   "id": "863956d62b8d4d4c",
   "metadata": {
    "ExecuteTime": {
     "end_time": "2025-06-14T09:49:17.845496Z",
     "start_time": "2025-06-14T09:49:17.702054Z"
    }
   },
   "outputs": [],
   "source": [
    "import os\n",
    "import pathlib\n",
    "from pycoral.utils import edgetpu\n",
    "from pycoral.utils import dataset\n",
    "from pycoral.adapters import common\n",
    "from pycoral.adapters import classify\n",
    "from PIL import Image"
   ]
  },
  {
   "cell_type": "code",
   "execution_count": 3,
   "id": "c97853d843143799",
   "metadata": {
    "ExecuteTime": {
     "end_time": "2025-06-14T09:50:28.603433Z",
     "start_time": "2025-06-14T09:50:28.594142Z"
    }
   },
   "outputs": [
    {
     "name": "stdout",
     "output_type": "stream",
     "text": [
      "Current directory: c:\\prj\\DLS\\dls_prj\n"
     ]
    }
   ],
   "source": [
    "print(f\"Current directory: {os.getcwd()}\")"
   ]
  },
  {
   "cell_type": "code",
   "execution_count": 6,
   "id": "dcdbb063",
   "metadata": {},
   "outputs": [
    {
     "name": "stdout",
     "output_type": "stream",
     "text": [
      "Найдено 1 Edge TPU устройств:\n",
      "- {'type': 'usb', 'path': '/sys/bus/usb/devices/2-5'}\n"
     ]
    },
    {
     "data": {
      "text/plain": [
       "True"
      ]
     },
     "execution_count": 6,
     "metadata": {},
     "output_type": "execute_result"
    }
   ],
   "source": [
    "from pycoral.utils import edgetpu\n",
    "\n",
    "def check_coral_tpu():\n",
    "    try:\n",
    "        # Получаем список доступных Edge TPU устройств\n",
    "        devices = edgetpu.list_edge_tpus()\n",
    "        \n",
    "        if devices:\n",
    "            print(f\"Найдено {len(devices)} Edge TPU устройств:\")\n",
    "            for device in devices:\n",
    "                print(f\"- {device}\")\n",
    "            return True\n",
    "        else:\n",
    "            print(\"Edge TPU устройства не найдены\")\n",
    "            return False\n",
    "            \n",
    "    except Exception as e:\n",
    "        print(f\"Ошибка при проверке Edge TPU: {e}\")\n",
    "        return False\n",
    "\n",
    "# Запуск проверки\n",
    "check_coral_tpu()"
   ]
  },
  {
   "cell_type": "code",
   "execution_count": 7,
   "id": "dd6acde139b31702",
   "metadata": {
    "ExecuteTime": {
     "end_time": "2025-06-14T09:51:10.485003Z",
     "start_time": "2025-06-14T09:51:10.213211Z"
    }
   },
   "outputs": [],
   "source": [
    "# Specify the TensorFlow model, labels, and image\n",
    "# script_dir = pathlib.Path(__file__).parent.absolute()\n",
    "script_dir = pathlib.Path.cwd()\n",
    "model_file = os.path.join(script_dir, 'pycoral/test_data/mobilenet_v2_1.0_224_inat_bird_quant.tflite')\n",
    "label_file = os.path.join(script_dir, 'pycoral/test_data/inat_bird_labels.txt')\n",
    "image_file = os.path.join(script_dir, 'pycoral/test_data/sora.jpg')"
   ]
  },
  {
   "cell_type": "code",
   "execution_count": 8,
   "id": "initial_id",
   "metadata": {},
   "outputs": [],
   "source": [
    "\n",
    "# Initialize the TF interpreter\n",
    "interpreter = edgetpu.make_interpreter(model_file)\n",
    "interpreter.allocate_tensors()\n",
    "\n",
    "# Resize the image\n",
    "size = common.input_size(interpreter)\n",
    "image = Image.open(image_file).convert('RGB').resize(size, Image.LANCZOS)\n"
   ]
  },
  {
   "cell_type": "code",
   "execution_count": null,
   "id": "18513e8c",
   "metadata": {},
   "outputs": [
    {
     "name": "stdout",
     "output_type": "stream",
     "text": [
      "Porzana carolina (Sora): 0.97656\n",
      "Haemorhous purpureus (Purple Finch): 0.00000\n",
      "Nyctidromus albicollis (Common Pauraque): 0.00000\n"
     ]
    },
    {
     "ename": "",
     "evalue": "",
     "output_type": "error",
     "traceback": [
      "\u001b[1;31mThe Kernel crashed while executing code in the current cell or a previous cell. \n",
      "\u001b[1;31mPlease review the code in the cell(s) to identify a possible cause of the failure. \n",
      "\u001b[1;31mClick <a href='https://aka.ms/vscodeJupyterKernelCrash'>here</a> for more info. \n",
      "\u001b[1;31mView Jupyter <a href='command:jupyter.viewOutput'>log</a> for further details."
     ]
    }
   ],
   "source": [
    "\n",
    "# Run an inference\n",
    "common.set_input(interpreter, image)\n",
    "interpreter.invoke()\n",
    "classes = classify.get_classes(interpreter, top_k=3)\n",
    "\n",
    "# Print the result\n",
    "labels = dataset.read_label_file(label_file)\n",
    "for c in classes:\n",
    "  print('%s: %.5f' % (labels.get(c.id, c.id), c.score))\n"
   ]
  },
  {
   "cell_type": "code",
   "execution_count": null,
   "id": "242aadd6",
   "metadata": {},
   "outputs": [],
   "source": []
  }
 ],
 "metadata": {
  "kernelspec": {
   "display_name": "venv",
   "language": "python",
   "name": "python3"
  },
  "language_info": {
   "codemirror_mode": {
    "name": "ipython",
    "version": 3
   },
   "file_extension": ".py",
   "mimetype": "text/x-python",
   "name": "python",
   "nbconvert_exporter": "python",
   "pygments_lexer": "ipython3",
   "version": "3.9.13"
  }
 },
 "nbformat": 4,
 "nbformat_minor": 5
}
