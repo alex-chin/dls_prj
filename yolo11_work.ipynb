{
 "cells": [
  {
   "metadata": {},
   "cell_type": "markdown",
   "source": "## Проверка работы с моделью yolo11",
   "id": "d6bad54e4c607458"
  },
  {
   "metadata": {},
   "cell_type": "markdown",
   "source": "python 3.12",
   "id": "896a5804e8c39f77"
  },
  {
   "metadata": {},
   "cell_type": "code",
   "outputs": [],
   "execution_count": null,
   "source": "# !pip install ultralytics",
   "id": "97e794b34fdc0659"
  },
  {
   "metadata": {
    "ExecuteTime": {
     "end_time": "2025-07-11T10:32:36.270109Z",
     "start_time": "2025-07-11T10:32:34.023190Z"
    }
   },
   "cell_type": "code",
   "source": "from ultralytics import YOLO",
   "id": "a9e7cb8afa84189c",
   "outputs": [],
   "execution_count": 3
  },
  {
   "metadata": {
    "ExecuteTime": {
     "end_time": "2025-07-08T15:05:51.908687Z",
     "start_time": "2025-07-08T15:05:51.894873Z"
    }
   },
   "cell_type": "code",
   "source": [
    "# Load the exported TFLite Edge TPU model\n",
    "edgetpu_model = YOLO(\"models/yolo11n_full_integer_quant_edgetpu.tflite\", task='detect')"
   ],
   "id": "bd175e45a28e2a5",
   "outputs": [],
   "execution_count": 3
  },
  {
   "metadata": {
    "ExecuteTime": {
     "end_time": "2025-07-08T15:08:09.170684Z",
     "start_time": "2025-07-08T15:08:09.154385Z"
    }
   },
   "cell_type": "code",
   "source": "timing = []",
   "id": "a2fe89218521960f",
   "outputs": [],
   "execution_count": 6
  },
  {
   "metadata": {
    "ExecuteTime": {
     "end_time": "2025-07-08T15:11:46.080403Z",
     "start_time": "2025-07-08T15:11:36.375178Z"
    }
   },
   "cell_type": "code",
   "source": [
    "# Run inference\n",
    "results = edgetpu_model(\"https://ultralytics.com/images/bus.jpg\")"
   ],
   "id": "ef866cecd5488ab3",
   "outputs": [
    {
     "name": "stdout",
     "output_type": "stream",
     "text": [
      "\n",
      "Found https://ultralytics.com/images/bus.jpg locally at bus.jpg\n",
      "image 1/1 C:\\prj\\DLS\\dls_prj\\bus.jpg: 640x640 5 persons, 1 truck, 1 skateboard, 9680.5ms\n",
      "Speed: 4.4ms preprocess, 9680.5ms inference, 1.3ms postprocess per image at shape (1, 3, 640, 640)\n"
     ]
    }
   ],
   "execution_count": 20
  },
  {
   "metadata": {
    "ExecuteTime": {
     "end_time": "2025-07-08T15:10:01.500314Z",
     "start_time": "2025-07-08T15:10:01.485809Z"
    }
   },
   "cell_type": "code",
   "source": "timing.append(results[0].speed)",
   "id": "76e898f7d20584d",
   "outputs": [],
   "execution_count": 18
  },
  {
   "metadata": {
    "ExecuteTime": {
     "end_time": "2025-07-08T15:10:02.966390Z",
     "start_time": "2025-07-08T15:10:02.956642Z"
    }
   },
   "cell_type": "code",
   "source": "timing",
   "id": "b6f9028c3faef21f",
   "outputs": [
    {
     "data": {
      "text/plain": [
       "[{'preprocess': 8.212999999997805,\n",
       "  'inference': 9291.061800000009,\n",
       "  'postprocess': 16.329999999996403},\n",
       " {'preprocess': 7.607400000011921,\n",
       "  'inference': 8912.040400000024,\n",
       "  'postprocess': 2.560600000009572},\n",
       " {'preprocess': 8.472100000005867,\n",
       "  'inference': 11963.717300000013,\n",
       "  'postprocess': 1.5791000000149324},\n",
       " {'preprocess': 4.693500000030326,\n",
       "  'inference': 10382.807500000014,\n",
       "  'postprocess': 1.7300000000091131},\n",
       " {'preprocess': 4.951500000004216,\n",
       "  'inference': 8877.180900000041,\n",
       "  'postprocess': 1.0076000000367458}]"
      ]
     },
     "execution_count": 19,
     "metadata": {},
     "output_type": "execute_result"
    }
   ],
   "execution_count": 19
  },
  {
   "metadata": {},
   "cell_type": "code",
   "outputs": [],
   "execution_count": null,
   "source": "model = YOLO('models/best (5).pt')",
   "id": "3e1fe01c6738ab49"
  },
  {
   "metadata": {},
   "cell_type": "code",
   "outputs": [],
   "execution_count": null,
   "source": "results=model('images/test_BLI_0004.JPG')",
   "id": "24108e3abf312fc1"
  },
  {
   "metadata": {},
   "cell_type": "code",
   "outputs": [],
   "execution_count": null,
   "source": "import cv2",
   "id": "616dc8c53edd643f"
  },
  {
   "metadata": {},
   "cell_type": "code",
   "outputs": [],
   "execution_count": null,
   "source": [
    "from ultralytics import YOLO\n",
    "import cv2\n",
    "from IPython.display import Image, display, clear_output\n",
    "import matplotlib.pyplot as plt\n",
    "import numpy as np"
   ],
   "id": "3e837bac8f38cf5f"
  },
  {
   "metadata": {},
   "cell_type": "code",
   "outputs": [],
   "execution_count": null,
   "source": [
    "plt.figure(figsize=(12, 10)) # Можно настроить размер отображения\n",
    "\n",
    "for r in results:\n",
    "    # Получаем изображение с нарисованными bounding box-ами и метками\n",
    "    # YOLOv8 plot() возвращает numpy массив (BGR), matplotlib ожидает RGB\n",
    "    im_bgr = r.plot()\n",
    "    im_rgb = cv2.cvtColor(im_bgr, cv2.COLOR_BGR2RGB)\n",
    "    # Отображаем изображение с помощью Matplotlib для лучшей интеграции в Jupyter\n",
    "    plt.imshow(im_rgb)\n",
    "plt.axis('off') # Отключаем оси\n",
    "plt.title('Обнаруженные объекты')\n",
    "plt.show()"
   ],
   "id": "cc79506c5906c22e"
  },
  {
   "metadata": {},
   "cell_type": "code",
   "outputs": [],
   "execution_count": null,
   "source": [
    "for r in results:\n",
    "    boxes = r.boxes  # Объект Boxes для выходов bounding box-ов\n",
    "\n",
    "    if len(boxes) > 0:\n",
    "        print(\"\\nОбнаруженные объекты:\")\n",
    "        for i, box in enumerate(boxes):\n",
    "            # Координаты: [x1, y1, x2, y2]\n",
    "            coords = [round(c, 2) for c in box.xyxy[0].tolist()]\n",
    "            # Класс объекта\n",
    "            class_name = model.names[int(box.cls)]\n",
    "            # Уверенность (confidence)\n",
    "            confidence = round(box.conf[0].item(), 2)\n",
    "\n",
    "            print(f\"  Объект {i+1}:\")\n",
    "            print(f\"    Класс: {class_name}\")\n",
    "            print(f\"    Уверенность: {confidence}\")\n",
    "            print(f\"    Координаты (x1, y1, x2, y2): {coords}\\n\")\n",
    "    else:\n",
    "        print(\"\\nОбъекты не обнаружены.\")\n"
   ],
   "id": "f07f6bb486bd5709"
  },
  {
   "metadata": {},
   "cell_type": "code",
   "outputs": [],
   "execution_count": null,
   "source": "model = YOLO('models/yolo11n_full_integer_quant_edgetpu.tflite', task='detect')",
   "id": "563dfdb89fbcd6d0"
  },
  {
   "metadata": {},
   "cell_type": "code",
   "outputs": [],
   "execution_count": null,
   "source": "model('images/test_BLI_0004.JPG')",
   "id": "3dbcf9cbd75b8fdb"
  },
  {
   "metadata": {},
   "cell_type": "code",
   "outputs": [],
   "execution_count": null,
   "source": "model = YOLO('models/best_5_full_integer_quant_edgetpu.tflite', task='detect')",
   "id": "77f238561176d7d5"
  },
  {
   "metadata": {},
   "cell_type": "code",
   "outputs": [],
   "execution_count": null,
   "source": "model('images/test_BLI_0004.JPG')",
   "id": "f642982c8dbfef7f"
  },
  {
   "metadata": {},
   "cell_type": "code",
   "outputs": [],
   "execution_count": null,
   "source": "result=model('images/test_BLI_0004.JPG')",
   "id": "e58a6b3b2fcb8af8"
  },
  {
   "metadata": {},
   "cell_type": "code",
   "outputs": [],
   "execution_count": null,
   "source": "result",
   "id": "38f3e91b84cef749"
  },
  {
   "metadata": {},
   "cell_type": "code",
   "outputs": [],
   "execution_count": null,
   "source": [
    "plt.figure(figsize=(6, 5)) # Можно настроить размер отображения\n",
    "\n",
    "for r in result:\n",
    "    # Получаем изображение с нарисованными bounding box-ами и метками\n",
    "    # YOLOv8 plot() возвращает numpy массив (BGR), matplotlib ожидает RGB\n",
    "    im_bgr = r.plot()\n",
    "    im_rgb = cv2.cvtColor(im_bgr, cv2.COLOR_BGR2RGB)\n",
    "    # Отображаем изображение с помощью Matplotlib для лучшей интеграции в Jupyter\n",
    "    plt.imshow(im_rgb)\n",
    "plt.axis('off') # Отключаем оси\n",
    "plt.title('Обнаруженные объекты')\n",
    "plt.show()"
   ],
   "id": "aca4085bd302ad4b"
  },
  {
   "metadata": {},
   "cell_type": "code",
   "outputs": [],
   "execution_count": null,
   "source": "result[0].speed",
   "id": "bc6df122c7089583"
  },
  {
   "metadata": {},
   "cell_type": "code",
   "outputs": [],
   "execution_count": null,
   "source": "",
   "id": "a0a2a4427395cbf5"
  },
  {
   "metadata": {
    "ExecuteTime": {
     "end_time": "2025-07-07T19:51:58.938825Z",
     "start_time": "2025-07-07T19:51:58.802113Z"
    }
   },
   "cell_type": "code",
   "source": [
    "\n",
    "# Load the exported TFLite Edge TPU model\n",
    "edgetpu_model = YOLO(\"models/yolov5nu_full_integer_quant_edgetpu.tflite\")\n",
    "\n",
    "# Run inference\n",
    "results = edgetpu_model(\"https://ultralytics.com/images/bus.jpg\")"
   ],
   "id": "d9baac5c4981a8d3",
   "outputs": [
    {
     "name": "stdout",
     "output_type": "stream",
     "text": [
      "WARNING Unable to automatically guess model task, assuming 'task=detect'. Explicitly define task for your model, i.e. 'task=detect', 'segment', 'classify','pose' or 'obb'.\n",
      "Loading models\\yolov5nu_full_integer_quant_edgetpu.tflite on device 0 for TensorFlow Lite Edge TPU inference...\n",
      "\n",
      "Found https://ultralytics.com/images/bus.jpg locally at bus.jpg\n",
      "image 1/1 C:\\prj\\DLS\\dls_prj\\bus.jpg: 640x640 5 persons, 1 bus, 94.3ms\n",
      "Speed: 4.6ms preprocess, 94.3ms inference, 3.8ms postprocess per image at shape (1, 3, 640, 640)\n"
     ]
    }
   ],
   "execution_count": 13
  },
  {
   "metadata": {
    "ExecuteTime": {
     "end_time": "2025-07-07T19:54:12.339934Z",
     "start_time": "2025-07-07T19:54:12.326909Z"
    }
   },
   "cell_type": "code",
   "source": "results[0].speed",
   "id": "f55ec3391f6dfef4",
   "outputs": [
    {
     "data": {
      "text/plain": [
       "{'preprocess': 4.594799999949828,\n",
       " 'inference': 94.26310000003468,\n",
       " 'postprocess': 3.799400000048081}"
      ]
     },
     "execution_count": 14,
     "metadata": {},
     "output_type": "execute_result"
    }
   ],
   "execution_count": 14
  },
  {
   "metadata": {
    "ExecuteTime": {
     "end_time": "2025-07-09T21:58:11.980856Z",
     "start_time": "2025-07-09T21:58:11.949735Z"
    }
   },
   "cell_type": "code",
   "source": [
    "# Load the exported TFLite Edge TPU model\n",
    "edgetpu_model = YOLO(\"models/yolov8n_full_integer_quant_edgetpu.tflite\")"
   ],
   "id": "17141fad4cf10c02",
   "outputs": [
    {
     "name": "stdout",
     "output_type": "stream",
     "text": [
      "WARNING Unable to automatically guess model task, assuming 'task=detect'. Explicitly define task for your model, i.e. 'task=detect', 'segment', 'classify','pose' or 'obb'.\n"
     ]
    }
   ],
   "execution_count": 9
  },
  {
   "metadata": {
    "ExecuteTime": {
     "end_time": "2025-07-09T21:58:13.687718Z",
     "start_time": "2025-07-09T21:58:13.500326Z"
    }
   },
   "cell_type": "code",
   "source": [
    "\n",
    "# Run inference\n",
    "results = edgetpu_model(\"https://ultralytics.com/images/bus.jpg\")"
   ],
   "id": "989d3340209ac553",
   "outputs": [
    {
     "name": "stdout",
     "output_type": "stream",
     "text": [
      "Loading models\\yolov8n_full_integer_quant_edgetpu.tflite on device 0 for TensorFlow Lite Edge TPU inference...\n",
      "\n",
      "Found https://ultralytics.com/images/bus.jpg locally at bus.jpg\n",
      "image 1/1 C:\\prj\\DLS\\dls_prj\\bus.jpg: 640x640 5 persons, 1 bus, 114.2ms\n",
      "Speed: 6.0ms preprocess, 114.2ms inference, 5.3ms postprocess per image at shape (1, 3, 640, 640)\n"
     ]
    }
   ],
   "execution_count": 10
  },
  {
   "metadata": {
    "ExecuteTime": {
     "end_time": "2025-07-09T21:55:00.461506Z",
     "start_time": "2025-07-09T21:55:00.413932Z"
    }
   },
   "cell_type": "code",
   "source": [
    "# Load the exported TFLite Edge TPU model\n",
    "edgetpu_model = YOLO(\"models/last_2_full_integer_quant_edgetpu.tflite\")"
   ],
   "id": "4cfc6e7c9de631e1",
   "outputs": [
    {
     "name": "stdout",
     "output_type": "stream",
     "text": [
      "WARNING Unable to automatically guess model task, assuming 'task=detect'. Explicitly define task for your model, i.e. 'task=detect', 'segment', 'classify','pose' or 'obb'.\n"
     ]
    }
   ],
   "execution_count": 7
  },
  {
   "metadata": {
    "ExecuteTime": {
     "end_time": "2025-07-09T21:57:56.440778Z",
     "start_time": "2025-07-09T21:55:02.088118Z"
    }
   },
   "cell_type": "code",
   "source": [
    "\n",
    "# Run inference\n",
    "results = edgetpu_model(\"images/test_BLI_0004.JPG\")"
   ],
   "id": "cd008b02d579c727",
   "outputs": [
    {
     "name": "stdout",
     "output_type": "stream",
     "text": [
      "Loading models\\last_2_full_integer_quant_edgetpu.tflite on device 0 for TensorFlow Lite Edge TPU inference...\n",
      "\n",
      "image 1/1 C:\\prj\\DLS\\dls_prj\\images\\test_BLI_0004.JPG: 1536x1536 5 items, 173871.8ms\n",
      "Speed: 120.6ms preprocess, 173871.8ms inference, 51.6ms postprocess per image at shape (1, 3, 1536, 1536)\n"
     ]
    }
   ],
   "execution_count": 8
  },
  {
   "metadata": {},
   "cell_type": "code",
   "outputs": [],
   "execution_count": null,
   "source": "",
   "id": "f3ee7bb254d01179"
  },
  {
   "metadata": {
    "ExecuteTime": {
     "end_time": "2025-07-11T10:33:06.829475Z",
     "start_time": "2025-07-11T10:33:06.703088Z"
    }
   },
   "cell_type": "code",
   "source": [
    "# Load the exported TFLite Edge TPU model\n",
    "edgetpu_model = YOLO(\"models/best_9_full_integer_quant_edgetpu.tflite\", task='detect')"
   ],
   "id": "6862a08e3397f3e8",
   "outputs": [],
   "execution_count": 4
  },
  {
   "metadata": {
    "ExecuteTime": {
     "end_time": "2025-07-11T10:33:23.162392Z",
     "start_time": "2025-07-11T10:33:22.964055Z"
    }
   },
   "cell_type": "code",
   "source": [
    "# Run inference\n",
    "results = edgetpu_model(\"images/test_BLI_0004.JPG\")"
   ],
   "id": "859b7a1c6f0d9f48",
   "outputs": [
    {
     "name": "stdout",
     "output_type": "stream",
     "text": [
      "\n",
      "image 1/1 C:\\prj\\DLS\\dls_prj\\images\\test_BLI_0004.JPG: 640x640 15 items, 69.5ms\n",
      "Speed: 4.2ms preprocess, 69.5ms inference, 1.2ms postprocess per image at shape (1, 3, 640, 640)\n"
     ]
    }
   ],
   "execution_count": 6
  },
  {
   "metadata": {
    "ExecuteTime": {
     "end_time": "2025-07-11T10:33:29.117839Z",
     "start_time": "2025-07-11T10:33:29.030386Z"
    }
   },
   "cell_type": "code",
   "source": "results = edgetpu_model(\"HERIDAL.v1i.yolov5pytorch/train/images/test_BLI_0001_jpg.rf.561bb278e126161a18c1d99c9ae37d7c.jpg\")",
   "id": "f6dcaf7e720b1a7c",
   "outputs": [
    {
     "name": "stdout",
     "output_type": "stream",
     "text": [
      "\n",
      "image 1/1 C:\\prj\\DLS\\dls_prj\\HERIDAL.v1i.yolov5pytorch\\train\\images\\test_BLI_0001_jpg.rf.561bb278e126161a18c1d99c9ae37d7c.jpg: 640x640 2 items, 69.9ms\n",
      "Speed: 3.2ms preprocess, 69.9ms inference, 1.1ms postprocess per image at shape (1, 3, 640, 640)\n"
     ]
    }
   ],
   "execution_count": 8
  },
  {
   "metadata": {
    "ExecuteTime": {
     "end_time": "2025-07-11T11:03:41.256517Z",
     "start_time": "2025-07-11T11:03:40.978154Z"
    }
   },
   "cell_type": "code",
   "source": "results = edgetpu_model(\"HERIDAL.v1i.yolov5pytorch/train/images/test_BLI_0002_jpg.rf.68ecfe1e92b08d9957b955fa4a186bc4.jpg\")",
   "id": "f33bb667542d5e35",
   "outputs": [
    {
     "name": "stdout",
     "output_type": "stream",
     "text": [
      "\n",
      "image 1/1 C:\\prj\\DLS\\dls_prj\\HERIDAL.v1i.yolov5pytorch\\train\\images\\test_BLI_0002_jpg.rf.68ecfe1e92b08d9957b955fa4a186bc4.jpg: 640x640 9 items, 107.6ms\n",
      "Speed: 29.0ms preprocess, 107.6ms inference, 36.9ms postprocess per image at shape (1, 3, 640, 640)\n"
     ]
    }
   ],
   "execution_count": 24
  },
  {
   "metadata": {
    "ExecuteTime": {
     "end_time": "2025-07-11T10:41:23.069060Z",
     "start_time": "2025-07-11T10:41:22.924009Z"
    }
   },
   "cell_type": "code",
   "source": "cpu_model= YOLO(\"models/best_9.pt\")",
   "id": "6b321ed85a21969c",
   "outputs": [],
   "execution_count": 17
  },
  {
   "metadata": {
    "ExecuteTime": {
     "end_time": "2025-07-11T10:58:51.601104Z",
     "start_time": "2025-07-11T10:58:51.498667Z"
    }
   },
   "cell_type": "code",
   "source": "results = cpu_model(\"HERIDAL.v1i.yolov5pytorch/train/images/test_BLI_0002_jpg.rf.68ecfe1e92b08d9957b955fa4a186bc4.jpg\")",
   "id": "c2d40abe3e49b041",
   "outputs": [
    {
     "name": "stdout",
     "output_type": "stream",
     "text": [
      "\n",
      "image 1/1 C:\\prj\\DLS\\dls_prj\\HERIDAL.v1i.yolov5pytorch\\train\\images\\test_BLI_0002_jpg.rf.68ecfe1e92b08d9957b955fa4a186bc4.jpg: 640x640 6 items, 74.8ms\n",
      "Speed: 2.5ms preprocess, 74.8ms inference, 1.2ms postprocess per image at shape (1, 3, 640, 640)\n"
     ]
    }
   ],
   "execution_count": 23
  },
  {
   "metadata": {},
   "cell_type": "code",
   "outputs": [],
   "execution_count": null,
   "source": "",
   "id": "fbeba2877dc4a31"
  }
 ],
 "metadata": {},
 "nbformat": 4,
 "nbformat_minor": 5
}
