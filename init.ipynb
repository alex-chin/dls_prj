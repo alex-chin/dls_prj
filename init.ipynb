{
 "cells": [
  {
   "cell_type": "markdown",
   "id": "53f3da73",
   "metadata": {},
   "source": [
    "# Установка системы"
   ]
  },
  {
   "metadata": {},
   "cell_type": "markdown",
   "source": "[Get started with the USB Accelerator](https://coral.ai/docs/accelerator/get-started/#requirements)",
   "id": "bdb8125a906cb7e4"
  },
  {
   "cell_type": "markdown",
   "id": "60afa483",
   "metadata": {},
   "source": [
    "## Установка драйверов"
   ]
  },
  {
   "cell_type": "code",
   "execution_count": 6,
   "id": "e1acf443",
   "metadata": {},
   "outputs": [],
   "source": [
    "# url edge tpu runtime\n",
    "\n",
    "URL_TPU_RUNTIME = \"https://github.com/google-coral/libedgetpu/releases/download/release-grouper/edgetpu_runtime_20221024.zip\"\n",
    "DIR_TPU_RUNTIME = \"edgetpu_runtime\""
   ]
  },
  {
   "cell_type": "code",
   "execution_count": 7,
   "id": "74f586c4",
   "metadata": {},
   "outputs": [],
   "source": [
    "import wget\n",
    "import os"
   ]
  },
  {
   "cell_type": "code",
   "execution_count": null,
   "id": "016805db",
   "metadata": {},
   "outputs": [],
   "source": [
    "#%pip install wget"
   ]
  },
  {
   "cell_type": "code",
   "execution_count": 4,
   "id": "2ca47ac0",
   "metadata": {},
   "outputs": [
    {
     "name": "stdout",
     "output_type": "stream",
     "text": [
      "Downloading Edge TPU runtime...\n",
      "\n",
      "Download completed!\n"
     ]
    }
   ],
   "source": [
    "# скачивание данных по ссылке \n",
    "\n",
    "\n",
    "# Download the runtime\n",
    "print(\"Downloading Edge TPU runtime...\")\n",
    "wget.download(URL_TPU_RUNTIME, 'edgetpu_runtime.zip')\n",
    "print(\"\\nDownload completed!\")"
   ]
  },
  {
   "cell_type": "code",
   "execution_count": 5,
   "id": "initial_id",
   "metadata": {
    "ExecuteTime": {
     "end_time": "2025-06-14T08:37:04.365403Z",
     "start_time": "2025-06-14T08:37:04.345108Z"
    },
    "collapsed": true
   },
   "outputs": [
    {
     "name": "stdout",
     "output_type": "stream",
     "text": [
      "Extracting Edge TPU runtime...\n",
      "Extraction completed!\n"
     ]
    }
   ],
   "source": [
    "# unzip edgetpu_runtime.zip\n",
    "import zipfile\n",
    "\n",
    "print(\"Extracting Edge TPU runtime...\")\n",
    "with zipfile.ZipFile('edgetpu_runtime.zip', 'r') as zip_ref:\n",
    "    zip_ref.extractall(DIR_TPU_RUNTIME)\n",
    "print(\"Extraction completed!\")"
   ]
  },
  {
   "cell_type": "code",
   "execution_count": 8,
   "id": "a57dd9d31a2c9ddb",
   "metadata": {},
   "outputs": [
    {
     "name": "stdout",
     "output_type": "stream",
     "text": [
      "c:\\prj\\DLS\\dls_prj\\edgetpu_runtime\n",
      "Current directory: c:\\prj\\DLS\\dls_prj\\edgetpu_runtime\n"
     ]
    },
    {
     "name": "stderr",
     "output_type": "stream",
     "text": [
      "c:\\prj\\DLS\\dls_prj\\venv\\lib\\site-packages\\IPython\\core\\magics\\osm.py:417: UserWarning: using dhist requires you to install the `pickleshare` library.\n",
      "  self.shell.db['dhist'] = compress_dhist(dhist)[-100:]\n"
     ]
    }
   ],
   "source": [
    "# Change to the runtime directory\n",
    "%cd {DIR_TPU_RUNTIME}\n",
    "print(f\"Current directory: {os.getcwd()}\")\n",
    "!install.bat"
   ]
  },
  {
   "cell_type": "code",
   "execution_count": 10,
   "id": "71958dc6",
   "metadata": {},
   "outputs": [
    {
     "name": "stdout",
     "output_type": "stream",
     "text": [
      "c:\\prj\\DLS\\dls_prj\n"
     ]
    },
    {
     "name": "stderr",
     "output_type": "stream",
     "text": [
      "c:\\prj\\DLS\\dls_prj\\venv\\lib\\site-packages\\IPython\\core\\magics\\osm.py:417: UserWarning: using dhist requires you to install the `pickleshare` library.\n",
      "  self.shell.db['dhist'] = compress_dhist(dhist)[-100:]\n"
     ]
    }
   ],
   "source": [
    "%cd .."
   ]
  },
  {
   "cell_type": "markdown",
   "id": "8713bff2",
   "metadata": {},
   "source": [
    "## Установка API PyCoral"
   ]
  },
  {
   "cell_type": "code",
   "execution_count": null,
   "id": "f172ffe2",
   "metadata": {},
   "outputs": [],
   "source": [
    "%python -m pip install --extra-index-url https://google-coral.github.io/py-repo/ pycoral~=2.0"
   ]
  },
  {
   "cell_type": "markdown",
   "id": "ab254a0a",
   "metadata": {},
   "source": [
    "понизить версию numpy"
   ]
  },
  {
   "cell_type": "code",
   "execution_count": null,
   "id": "79c2b56b",
   "metadata": {},
   "outputs": [],
   "source": [
    "%pip install \"numpy<2.0.0\""
   ]
  },
  {
   "cell_type": "markdown",
   "id": "db227c52",
   "metadata": {},
   "source": [
    "## Установка примеров\n"
   ]
  },
  {
   "cell_type": "code",
   "execution_count": 11,
   "id": "c7a07338",
   "metadata": {},
   "outputs": [
    {
     "name": "stdout",
     "output_type": "stream",
     "text": [
      "Current directory: c:\\prj\\DLS\\dls_prj\n"
     ]
    }
   ],
   "source": [
    "print(f\"Current directory: {os.getcwd()}\")"
   ]
  },
  {
   "cell_type": "code",
   "execution_count": null,
   "id": "8dae93dc",
   "metadata": {},
   "outputs": [],
   "source": [
    "%git clone https://github.com/google-coral/pycoral.git"
   ]
  },
  {
   "cell_type": "code",
   "execution_count": 12,
   "id": "4de6da03",
   "metadata": {},
   "outputs": [
    {
     "name": "stdout",
     "output_type": "stream",
     "text": [
      "c:\\prj\\DLS\\dls_prj\\pycoral\n"
     ]
    },
    {
     "name": "stderr",
     "output_type": "stream",
     "text": [
      "c:\\prj\\DLS\\dls_prj\\venv\\lib\\site-packages\\IPython\\core\\magics\\osm.py:417: UserWarning: using dhist requires you to install the `pickleshare` library.\n",
      "  self.shell.db['dhist'] = compress_dhist(dhist)[-100:]\n"
     ]
    }
   ],
   "source": [
    "%cd pycoral"
   ]
  },
  {
   "cell_type": "code",
   "execution_count": null,
   "id": "2515fa8f",
   "metadata": {},
   "outputs": [],
   "source": [
    "%bash examples/install_requirements.sh classify_image.py"
   ]
  },
  {
   "cell_type": "code",
   "execution_count": null,
   "id": "f0fe7c3f",
   "metadata": {},
   "outputs": [],
   "source": [
    "%python examples/classify_image.py --model test_data/mobilenet_v2_1.0_224_inat_bird_quant_edgetpu.tflite --labels test_data/inat_bird_labels.txt --input test_data/parrot.jpg"
   ]
  }
 ],
 "metadata": {
  "kernelspec": {
   "display_name": "venv",
   "language": "python",
   "name": "python3"
  },
  "language_info": {
   "codemirror_mode": {
    "name": "ipython",
    "version": 3
   },
   "file_extension": ".py",
   "mimetype": "text/x-python",
   "name": "python",
   "nbconvert_exporter": "python",
   "pygments_lexer": "ipython3",
   "version": "3.9.13"
  }
 },
 "nbformat": 4,
 "nbformat_minor": 5
}
