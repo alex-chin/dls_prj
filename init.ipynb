{
 "cells": [
  {
   "metadata": {},
   "cell_type": "markdown",
   "source": "# Установка системы",
   "id": "d8f859c7e908a0d7"
  },
  {
   "metadata": {},
   "cell_type": "markdown",
   "source": "[Get started with the USB Accelerator](https://coral.ai/docs/accelerator/get-started/#requirements)",
   "id": "6270c3c8ca00cb78"
  },
  {
   "metadata": {},
   "cell_type": "markdown",
   "source": "## Установка драйверов",
   "id": "54beae89fb26ce5b"
  },
  {
   "metadata": {},
   "cell_type": "code",
   "outputs": [],
   "execution_count": null,
   "source": "1+1",
   "id": "2a264d61cba16ddf"
  },
  {
   "metadata": {},
   "cell_type": "code",
   "outputs": [],
   "execution_count": null,
   "source": [
    "# url edge tpu runtime\n",
    "\n",
    "URL_TPU_RUNTIME = \"https://github.com/google-coral/libedgetpu/releases/download/release-grouper/edgetpu_runtime_20221024.zip\"\n",
    "DIR_TPU_RUNTIME = \"edgetpu_runtime\\edgetpu_runtime\""
   ],
   "id": "ddfc2d173855b5ce"
  },
  {
   "metadata": {},
   "cell_type": "code",
   "outputs": [],
   "execution_count": null,
   "source": "#%pip install wget",
   "id": "1824fa2592942911"
  },
  {
   "metadata": {},
   "cell_type": "code",
   "outputs": [],
   "execution_count": null,
   "source": [
    "import wget\n",
    "import os"
   ],
   "id": "cb74d3cd930cf49a"
  },
  {
   "metadata": {},
   "cell_type": "code",
   "outputs": [],
   "execution_count": null,
   "source": [
    "# скачивание данных по ссылке \n",
    "\n",
    "\n",
    "# Download the runtime\n",
    "print(\"Downloading Edge TPU runtime...\")\n",
    "wget.download(URL_TPU_RUNTIME, 'edgetpu_runtime.zip')\n",
    "print(\"\\nDownload completed!\")"
   ],
   "id": "78df62a3bc1bde47"
  },
  {
   "metadata": {},
   "cell_type": "code",
   "outputs": [],
   "execution_count": null,
   "source": [
    "# unzip edgetpu_runtime.zip\n",
    "import zipfile\n",
    "\n",
    "print(\"Extracting Edge TPU runtime...\")\n",
    "with zipfile.ZipFile('edgetpu_runtime.zip', 'r') as zip_ref:\n",
    "    zip_ref.extractall(DIR_TPU_RUNTIME)\n",
    "print(\"Extraction completed!\")"
   ],
   "id": "e344163c2f5fc027"
  },
  {
   "metadata": {},
   "cell_type": "code",
   "outputs": [],
   "execution_count": null,
   "source": [
    "# Change to the runtime directory\n",
    "%cd {DIR_TPU_RUNTIME}\n",
    "print(f\"Current directory: {os.getcwd()}\")\n",
    "!install.bat"
   ],
   "id": "1565b687e7fa46db"
  },
  {
   "metadata": {},
   "cell_type": "code",
   "outputs": [],
   "execution_count": null,
   "source": "%cd ..\\..",
   "id": "cdd881655102d92e"
  },
  {
   "metadata": {},
   "cell_type": "markdown",
   "source": "## Установка API PyCoral",
   "id": "b1ea6e886f12e7c4"
  },
  {
   "metadata": {},
   "cell_type": "code",
   "outputs": [],
   "execution_count": null,
   "source": "1+1",
   "id": "a5d736da423bf803"
  },
  {
   "metadata": {},
   "cell_type": "code",
   "outputs": [],
   "execution_count": null,
   "source": "!python -m pip install --extra-index-url https://google-coral.github.io/py-repo/ pycoral~=2.0",
   "id": "24ac8ffc4abe8066"
  },
  {
   "metadata": {},
   "cell_type": "markdown",
   "source": "понизить версию numpy",
   "id": "c9d338438a2425e3"
  },
  {
   "metadata": {},
   "cell_type": "code",
   "outputs": [],
   "execution_count": null,
   "source": "!pip install \"numpy<2.0.0\"",
   "id": "b5caea67543356b9"
  },
  {
   "metadata": {},
   "cell_type": "markdown",
   "source": "## Установка примеров\n",
   "id": "f31d59209eb9c37a"
  },
  {
   "metadata": {},
   "cell_type": "code",
   "outputs": [],
   "execution_count": null,
   "source": "print(f\"Current directory: {os.getcwd()}\")",
   "id": "c1225fb0c08b215"
  },
  {
   "metadata": {},
   "cell_type": "code",
   "outputs": [],
   "execution_count": null,
   "source": "!git clone https://github.com/google-coral/pycoral.git",
   "id": "da6c204e357687a3"
  },
  {
   "metadata": {},
   "cell_type": "code",
   "outputs": [],
   "execution_count": null,
   "source": "%cd pycoral",
   "id": "1b5fb3592e41ceb7"
  },
  {
   "metadata": {},
   "cell_type": "code",
   "outputs": [],
   "execution_count": null,
   "source": "# !bash examples/install_requirements.sh classify_image.py",
   "id": "8d9cc89302656937"
  },
  {
   "metadata": {},
   "cell_type": "code",
   "outputs": [],
   "execution_count": null,
   "source": "!python examples/classify_image.py --model test_data/mobilenet_v2_1.0_224_inat_bird_quant_edgetpu.tflite --labels test_data/inat_bird_labels.txt --input test_data/parrot.jpg",
   "id": "39126774e0ee27df"
  },
  {
   "metadata": {},
   "cell_type": "code",
   "outputs": [],
   "execution_count": null,
   "source": "",
   "id": "3eb7c1f3ff41471f"
  },
  {
   "metadata": {},
   "cell_type": "code",
   "outputs": [],
   "execution_count": null,
   "source": "!python examples/classify_image.py --model models/yolo11n_full_integer_quant_edgetpu.tflite --labels test_data/inat_bird_labels.txt --input test_data/parrot.jpg",
   "id": "c4ad39bcd9d6173c"
  },
  {
   "metadata": {},
   "cell_type": "code",
   "outputs": [],
   "execution_count": null,
   "source": " !python examples/detect_image.py --model ../models/best_5_full_integer_quant_edgetpu.tflite --input ../images/test_BLI_0004.JPG",
   "id": "47bbf7f31d9cf4eb"
  },
  {
   "metadata": {},
   "cell_type": "code",
   "outputs": [],
   "execution_count": null,
   "source": " !python examples/detect_image.py --model test_data/ssd_mobilenet_v2_coco_quant_postprocess_edgetpu.tflite --labels test_data/coco_labels.txt --input test_data/grace_hopper.bmp  --output grace_hopper_processed.bmp",
   "id": "c8e31cf7a0e93223"
  }
 ],
 "metadata": {
  "kernelspec": {
   "display_name": "venv",
   "language": "python",
   "name": "python3"
  },
  "language_info": {
   "codemirror_mode": {
    "name": "ipython",
    "version": 3
   },
   "file_extension": ".py",
   "mimetype": "text/x-python",
   "name": "python",
   "nbconvert_exporter": "python",
   "pygments_lexer": "ipython3",
   "version": "3.9.13"
  }
 },
 "nbformat": 4,
 "nbformat_minor": 5
}
